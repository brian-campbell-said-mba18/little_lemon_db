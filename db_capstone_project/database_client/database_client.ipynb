{
 "cells": [
  {
   "cell_type": "markdown",
   "id": "ffb0d184-409d-4146-8aff-1855229e8ad5",
   "metadata": {},
   "source": [
    "# Database Clients"
   ]
  },
  {
   "cell_type": "markdown",
   "id": "76d20b69-ec8a-48ed-970a-968f712fcb44",
   "metadata": {},
   "source": [
    "## Connect to Database"
   ]
  },
  {
   "cell_type": "code",
   "execution_count": 1,
   "id": "6c211c63-c744-4bbe-939e-3ead06382d81",
   "metadata": {},
   "outputs": [],
   "source": [
    "import mysql.connector as connector"
   ]
  },
  {
   "cell_type": "code",
   "execution_count": 2,
   "id": "674a5ec6-49e4-478a-97c1-47ad5af920a0",
   "metadata": {},
   "outputs": [],
   "source": [
    "import json"
   ]
  },
  {
   "cell_type": "code",
   "execution_count": 3,
   "id": "e9d7331d-72ee-42ba-a007-27fcbb4b7b74",
   "metadata": {},
   "outputs": [],
   "source": [
    "import numpy as np\n",
    "import pandas as pd"
   ]
  },
  {
   "cell_type": "code",
   "execution_count": 4,
   "id": "d3ff97b2-d987-423a-9665-ba2dbe7a0075",
   "metadata": {},
   "outputs": [],
   "source": [
    "with open('config.json', 'r') as file:\n",
    "    config = json.load(file)"
   ]
  },
  {
   "cell_type": "code",
   "execution_count": 5,
   "id": "d6e53b44-ddd0-4ebe-b0cc-a541844b839c",
   "metadata": {},
   "outputs": [],
   "source": [
    "connection = connector.connect(user = config['user'], password = config['password'], database = config[\"database\"])"
   ]
  },
  {
   "cell_type": "code",
   "execution_count": 6,
   "id": "12642320-fcc5-4b6f-9149-18a45623fa7d",
   "metadata": {},
   "outputs": [],
   "source": [
    "cursor = connection.cursor()"
   ]
  },
  {
   "cell_type": "markdown",
   "id": "51d44472-4159-4356-923c-350c376a7782",
   "metadata": {},
   "source": [
    "## Show Tables Query"
   ]
  },
  {
   "cell_type": "code",
   "execution_count": 7,
   "id": "ef655f42-29df-436b-ab8b-89a93ad77803",
   "metadata": {},
   "outputs": [],
   "source": [
    "# show tables query\n",
    "show_tables_query = \"SHOW tables\" "
   ]
  },
  {
   "cell_type": "code",
   "execution_count": 8,
   "id": "c065f1ca-1bac-4d66-802c-0fa2443a74d8",
   "metadata": {},
   "outputs": [],
   "source": [
    "# Execute Show Tables Query\n",
    "cursor.execute(show_tables_query)"
   ]
  },
  {
   "cell_type": "code",
   "execution_count": 9,
   "id": "fdba1cb7-9fcf-499b-a49e-c8a424199cd3",
   "metadata": {},
   "outputs": [],
   "source": [
    "tables_results = cursor.fetchall()"
   ]
  },
  {
   "cell_type": "code",
   "execution_count": 10,
   "id": "08e3bc45-281d-48e6-b9d4-666d47c6c9de",
   "metadata": {},
   "outputs": [],
   "source": [
    "table_dict = {'table_name' : [i[0] for i in tables_results]}"
   ]
  },
  {
   "cell_type": "code",
   "execution_count": 11,
   "id": "7b19d215-3287-4c5d-8753-eac6cb328a4f",
   "metadata": {},
   "outputs": [
    {
     "data": {
      "text/html": [
       "<div>\n",
       "<style scoped>\n",
       "    .dataframe tbody tr th:only-of-type {\n",
       "        vertical-align: middle;\n",
       "    }\n",
       "\n",
       "    .dataframe tbody tr th {\n",
       "        vertical-align: top;\n",
       "    }\n",
       "\n",
       "    .dataframe thead th {\n",
       "        text-align: right;\n",
       "    }\n",
       "</style>\n",
       "<table border=\"1\" class=\"dataframe\">\n",
       "  <thead>\n",
       "    <tr style=\"text-align: right;\">\n",
       "      <th></th>\n",
       "      <th>table_name</th>\n",
       "    </tr>\n",
       "  </thead>\n",
       "  <tbody>\n",
       "    <tr>\n",
       "      <th>0</th>\n",
       "      <td>bookings</td>\n",
       "    </tr>\n",
       "    <tr>\n",
       "      <th>1</th>\n",
       "      <td>bookings_bk_2023_09_15</td>\n",
       "    </tr>\n",
       "    <tr>\n",
       "      <th>2</th>\n",
       "      <td>costly_order_transactions</td>\n",
       "    </tr>\n",
       "    <tr>\n",
       "      <th>3</th>\n",
       "      <td>customers</td>\n",
       "    </tr>\n",
       "    <tr>\n",
       "      <th>4</th>\n",
       "      <td>menu</td>\n",
       "    </tr>\n",
       "    <tr>\n",
       "      <th>5</th>\n",
       "      <td>menu_items</td>\n",
       "    </tr>\n",
       "    <tr>\n",
       "      <th>6</th>\n",
       "      <td>menu_items_with_multiple_order_transactions</td>\n",
       "    </tr>\n",
       "    <tr>\n",
       "      <th>7</th>\n",
       "      <td>order_delivery_status</td>\n",
       "    </tr>\n",
       "    <tr>\n",
       "      <th>8</th>\n",
       "      <td>order_transactions</td>\n",
       "    </tr>\n",
       "    <tr>\n",
       "      <th>9</th>\n",
       "      <td>orders</td>\n",
       "    </tr>\n",
       "    <tr>\n",
       "      <th>10</th>\n",
       "      <td>orders_view</td>\n",
       "    </tr>\n",
       "    <tr>\n",
       "      <th>11</th>\n",
       "      <td>staff</td>\n",
       "    </tr>\n",
       "  </tbody>\n",
       "</table>\n",
       "</div>"
      ],
      "text/plain": [
       "                                     table_name\n",
       "0                                      bookings\n",
       "1                        bookings_bk_2023_09_15\n",
       "2                     costly_order_transactions\n",
       "3                                     customers\n",
       "4                                          menu\n",
       "5                                    menu_items\n",
       "6   menu_items_with_multiple_order_transactions\n",
       "7                         order_delivery_status\n",
       "8                            order_transactions\n",
       "9                                        orders\n",
       "10                                  orders_view\n",
       "11                                        staff"
      ]
     },
     "metadata": {},
     "output_type": "display_data"
    }
   ],
   "source": [
    "table_df = pd.DataFrame(data = table_dict)\n",
    "display(table_df)"
   ]
  },
  {
   "cell_type": "markdown",
   "id": "2466e6ff-0ab6-4496-9ac4-371f08e9484c",
   "metadata": {},
   "source": [
    "## Customer Promotion Query"
   ]
  },
  {
   "cell_type": "code",
   "execution_count": 12,
   "id": "d0ade629-5d24-47b2-9036-b13d4bade544",
   "metadata": {},
   "outputs": [],
   "source": [
    "customer_promotion_query = f'''\n",
    "select\n",
    "\tc.customer_id\n",
    "    , c.customer_name\n",
    "    , c.customer_country\n",
    "    , c.customer_city\n",
    "    , c.customer_phone_number\n",
    "    , ot.order_transaction_revenue\n",
    "from little_lemon_db.order_transactions as ot\n",
    "inner join customers as c\n",
    "\ton 1=1\n",
    "    and c.customer_id is not null\n",
    "    and ot.customer_id = c.customer_id\n",
    "where 1=1\n",
    "    and ot.order_transaction_revenue > 60\n",
    "order by ot.order_transaction_revenue asc\n",
    "'''"
   ]
  },
  {
   "cell_type": "code",
   "execution_count": 13,
   "id": "0f940aeb-4bb9-433c-ab30-4881304bb91c",
   "metadata": {},
   "outputs": [],
   "source": [
    "cursor.execute(customer_promotion_query)"
   ]
  },
  {
   "cell_type": "code",
   "execution_count": 14,
   "id": "d31c58a4-e4b6-46eb-b449-b911488828ba",
   "metadata": {},
   "outputs": [],
   "source": [
    "customer_promotion_results = cursor.fetchall()"
   ]
  },
  {
   "cell_type": "code",
   "execution_count": 15,
   "id": "d74014a6-b9dc-40c9-9eb7-27600744722e",
   "metadata": {},
   "outputs": [],
   "source": [
    "customer_promo_dict = {\n",
    "    'customer_id': [i[0] for i in customer_promotion_results]\n",
    "    , 'customer_name': [i[1] for i in customer_promotion_results]\n",
    "    , 'customer_country': [i[2] for i in customer_promotion_results]\n",
    "    , 'customer_city' : [i[3] for i in customer_promotion_results]\n",
    "    , 'customer_phone_number': [i[4] for i in customer_promotion_results]\n",
    "    , 'order_transaction_revenue' : [i[5] for i in customer_promotion_results]\n",
    "}"
   ]
  },
  {
   "cell_type": "code",
   "execution_count": 16,
   "id": "18b2ab70-a630-4b55-bde8-ff1d7dc29a95",
   "metadata": {},
   "outputs": [],
   "source": [
    "customer_promo_df = pd.DataFrame(data=customer_promo_dict)"
   ]
  },
  {
   "cell_type": "code",
   "execution_count": 17,
   "id": "19726dec-4f28-4f9b-814d-4732dfe79b1a",
   "metadata": {},
   "outputs": [
    {
     "data": {
      "text/html": [
       "<div>\n",
       "<style scoped>\n",
       "    .dataframe tbody tr th:only-of-type {\n",
       "        vertical-align: middle;\n",
       "    }\n",
       "\n",
       "    .dataframe tbody tr th {\n",
       "        vertical-align: top;\n",
       "    }\n",
       "\n",
       "    .dataframe thead th {\n",
       "        text-align: right;\n",
       "    }\n",
       "</style>\n",
       "<table border=\"1\" class=\"dataframe\">\n",
       "  <thead>\n",
       "    <tr style=\"text-align: right;\">\n",
       "      <th></th>\n",
       "      <th>customer_id</th>\n",
       "      <th>customer_name</th>\n",
       "      <th>customer_country</th>\n",
       "      <th>customer_city</th>\n",
       "      <th>customer_phone_number</th>\n",
       "      <th>order_transaction_revenue</th>\n",
       "    </tr>\n",
       "  </thead>\n",
       "  <tbody>\n",
       "    <tr>\n",
       "      <th>0</th>\n",
       "      <td>26-237-6257</td>\n",
       "      <td>Jillayne Gaiford</td>\n",
       "      <td>Kazakhstan</td>\n",
       "      <td>BÅ«laevo</td>\n",
       "      <td>1000000247</td>\n",
       "      <td>66.86</td>\n",
       "    </tr>\n",
       "    <tr>\n",
       "      <th>1</th>\n",
       "      <td>60-742-1416</td>\n",
       "      <td>Giusto Sheavills</td>\n",
       "      <td>Ukraine</td>\n",
       "      <td>Mospyne</td>\n",
       "      <td>1000000601</td>\n",
       "      <td>66.86</td>\n",
       "    </tr>\n",
       "    <tr>\n",
       "      <th>2</th>\n",
       "      <td>42-037-9687</td>\n",
       "      <td>Roi Critzen</td>\n",
       "      <td>Russia</td>\n",
       "      <td>Leninsk</td>\n",
       "      <td>1000000411</td>\n",
       "      <td>66.86</td>\n",
       "    </tr>\n",
       "    <tr>\n",
       "      <th>3</th>\n",
       "      <td>82-632-3278</td>\n",
       "      <td>Lucilia Sandeman</td>\n",
       "      <td>China</td>\n",
       "      <td>Liangjing</td>\n",
       "      <td>1000000834</td>\n",
       "      <td>66.86</td>\n",
       "    </tr>\n",
       "    <tr>\n",
       "      <th>4</th>\n",
       "      <td>49-536-9801</td>\n",
       "      <td>Elisabetta Jacke</td>\n",
       "      <td>Philippines</td>\n",
       "      <td>San Juan</td>\n",
       "      <td>1000000489</td>\n",
       "      <td>66.86</td>\n",
       "    </tr>\n",
       "    <tr>\n",
       "      <th>...</th>\n",
       "      <td>...</td>\n",
       "      <td>...</td>\n",
       "      <td>...</td>\n",
       "      <td>...</td>\n",
       "      <td>...</td>\n",
       "      <td>...</td>\n",
       "    </tr>\n",
       "    <tr>\n",
       "      <th>20974</th>\n",
       "      <td>42-165-1972</td>\n",
       "      <td>Bobby Blazewski</td>\n",
       "      <td>China</td>\n",
       "      <td>Xinglongchang</td>\n",
       "      <td>1000000412</td>\n",
       "      <td>480.00</td>\n",
       "    </tr>\n",
       "    <tr>\n",
       "      <th>20975</th>\n",
       "      <td>95-339-8822</td>\n",
       "      <td>Sheela Stein</td>\n",
       "      <td>United States</td>\n",
       "      <td>Salt Lake City</td>\n",
       "      <td>1000000954</td>\n",
       "      <td>480.00</td>\n",
       "    </tr>\n",
       "    <tr>\n",
       "      <th>20976</th>\n",
       "      <td>04-007-9403</td>\n",
       "      <td>Reilly Domonkos</td>\n",
       "      <td>Portugal</td>\n",
       "      <td>Fonte Boa da Brincosa</td>\n",
       "      <td>1000000035</td>\n",
       "      <td>480.00</td>\n",
       "    </tr>\n",
       "    <tr>\n",
       "      <th>20977</th>\n",
       "      <td>89-896-4591</td>\n",
       "      <td>Mart Malsher</td>\n",
       "      <td>Russia</td>\n",
       "      <td>Galâ€™bshtadt</td>\n",
       "      <td>1000000895</td>\n",
       "      <td>480.00</td>\n",
       "    </tr>\n",
       "    <tr>\n",
       "      <th>20978</th>\n",
       "      <td>35-042-6593</td>\n",
       "      <td>Horatio Lundy</td>\n",
       "      <td>China</td>\n",
       "      <td>Huangcun</td>\n",
       "      <td>1000000343</td>\n",
       "      <td>480.00</td>\n",
       "    </tr>\n",
       "  </tbody>\n",
       "</table>\n",
       "<p>20979 rows × 6 columns</p>\n",
       "</div>"
      ],
      "text/plain": [
       "       customer_id     customer_name customer_country          customer_city  \\\n",
       "0      26-237-6257  Jillayne Gaiford       Kazakhstan               BÅ«laevo   \n",
       "1      60-742-1416  Giusto Sheavills          Ukraine                Mospyne   \n",
       "2      42-037-9687       Roi Critzen           Russia                Leninsk   \n",
       "3      82-632-3278  Lucilia Sandeman            China              Liangjing   \n",
       "4      49-536-9801  Elisabetta Jacke      Philippines               San Juan   \n",
       "...            ...               ...              ...                    ...   \n",
       "20974  42-165-1972   Bobby Blazewski            China          Xinglongchang   \n",
       "20975  95-339-8822      Sheela Stein    United States         Salt Lake City   \n",
       "20976  04-007-9403   Reilly Domonkos         Portugal  Fonte Boa da Brincosa   \n",
       "20977  89-896-4591      Mart Malsher           Russia          Galâ€™bshtadt   \n",
       "20978  35-042-6593     Horatio Lundy            China               Huangcun   \n",
       "\n",
       "       customer_phone_number order_transaction_revenue  \n",
       "0                 1000000247                     66.86  \n",
       "1                 1000000601                     66.86  \n",
       "2                 1000000411                     66.86  \n",
       "3                 1000000834                     66.86  \n",
       "4                 1000000489                     66.86  \n",
       "...                      ...                       ...  \n",
       "20974             1000000412                    480.00  \n",
       "20975             1000000954                    480.00  \n",
       "20976             1000000035                    480.00  \n",
       "20977             1000000895                    480.00  \n",
       "20978             1000000343                    480.00  \n",
       "\n",
       "[20979 rows x 6 columns]"
      ]
     },
     "metadata": {},
     "output_type": "display_data"
    }
   ],
   "source": [
    "display(customer_promo_df)"
   ]
  }
 ],
 "metadata": {
  "kernelspec": {
   "display_name": "Python 3 (ipykernel)",
   "language": "python",
   "name": "python3"
  },
  "language_info": {
   "codemirror_mode": {
    "name": "ipython",
    "version": 3
   },
   "file_extension": ".py",
   "mimetype": "text/x-python",
   "name": "python",
   "nbconvert_exporter": "python",
   "pygments_lexer": "ipython3",
   "version": "3.10.12"
  }
 },
 "nbformat": 4,
 "nbformat_minor": 5
}
